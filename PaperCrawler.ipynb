{
 "cells": [
  {
   "attachments": {},
   "cell_type": "markdown",
   "metadata": {},
   "source": [
    "# PubMed Abstract Crawler and Analyzer\n",
    "Cited as Requested: \n",
    "\n",
    "Comeau DC, Wei CH, Islamaj Doğan R, and Lu Z. PMC text mining subset in BioC: about 3 million full text articles and growing, Bioinformatics, btz070, 2019"
   ]
  },
  {
   "cell_type": "code",
   "execution_count": 1,
   "metadata": {},
   "outputs": [],
   "source": [
    "import requests\n",
    "import pandas as pd\n",
    "import numpy as np\n",
    "import re\n",
    "import time"
   ]
  },
  {
   "attachments": {},
   "cell_type": "markdown",
   "metadata": {},
   "source": [
    "## Web Crawling PubMed Searches and Extracting the Abstracts"
   ]
  },
  {
   "cell_type": "code",
   "execution_count": 2,
   "metadata": {},
   "outputs": [
    {
     "data": {
      "text/plain": [
       "'https://pubmed.ncbi.nlm.nih.gov/?term=Smita+S+Patel&sort=date&size=10'"
      ]
     },
     "execution_count": 2,
     "metadata": {},
     "output_type": "execute_result"
    }
   ],
   "source": [
    "BASE_URL = 'https://pubmed.ncbi.nlm.nih.gov'\n",
    "SAMPLE_SEARCH_TERM = 'Smita S Patel'\n",
    "\n",
    "url = BASE_URL + '/?term=' + SAMPLE_SEARCH_TERM.strip().replace(' ', '+') + '&sort=date' + '&size=10'\n",
    "url"
   ]
  },
  {
   "cell_type": "code",
   "execution_count": 3,
   "metadata": {},
   "outputs": [
    {
     "data": {
      "text/plain": [
       "<Response [200]>"
      ]
     },
     "execution_count": 3,
     "metadata": {},
     "output_type": "execute_result"
    }
   ],
   "source": [
    "page = requests.get(url=url)\n",
    "page"
   ]
  },
  {
   "cell_type": "code",
   "execution_count": 4,
   "metadata": {},
   "outputs": [],
   "source": [
    "from bs4 import BeautifulSoup"
   ]
  },
  {
   "cell_type": "code",
   "execution_count": 5,
   "metadata": {},
   "outputs": [
    {
     "name": "stdout",
     "output_type": "stream",
     "text": [
      "<a class=\"docsum-title\" data-article-id=\"36528058\" data-full-article-url=\"from_term=Smita+S+Patel&amp;from_sort=date&amp;from_size=10&amp;from_pos=1\" data-ga-action=\"1\" data-ga-category=\"result_click\" data-ga-label=\"36528058\" href=\"/36528058/\" ref=\"linksrc=docsum_link&amp;article_id=36528058&amp;ordinalpos=1&amp;page=1\">\n",
      "              \n",
      "                The N-terminal domain of human mitochondrial helicase Twinkle has DNA-binding activity crucial for supporting processive DNA synthesis by polymerase γ.\n",
      "              \n",
      "            </a>\n"
     ]
    }
   ],
   "source": [
    "soup = BeautifulSoup(page.content, 'html.parser')\n",
    "documents = soup.findAll(class_= 'docsum-title')\n",
    "print(documents[0])\n"
   ]
  },
  {
   "cell_type": "code",
   "execution_count": 6,
   "metadata": {},
   "outputs": [
    {
     "data": {
      "text/plain": [
       "'The N-terminal domain of human mitochondrial helicase Twinkle has DNA-binding activity crucial for supporting processive DNA synthesis by polymerase γ.'"
      ]
     },
     "execution_count": 6,
     "metadata": {},
     "output_type": "execute_result"
    }
   ],
   "source": [
    "documents[0].contents[0].strip()"
   ]
  },
  {
   "cell_type": "code",
   "execution_count": 7,
   "metadata": {},
   "outputs": [
    {
     "data": {
      "text/plain": [
       "'https://pubmed.ncbi.nlm.nih.gov/36528058/'"
      ]
     },
     "execution_count": 7,
     "metadata": {},
     "output_type": "execute_result"
    }
   ],
   "source": [
    "BASE_URL + documents[0].get('href')"
   ]
  },
  {
   "cell_type": "code",
   "execution_count": 8,
   "metadata": {},
   "outputs": [
    {
     "data": {
      "text/plain": [
       "'36528058'"
      ]
     },
     "execution_count": 8,
     "metadata": {},
     "output_type": "execute_result"
    }
   ],
   "source": [
    "documents[0].get('data-article-id')"
   ]
  },
  {
   "attachments": {},
   "cell_type": "markdown",
   "metadata": {},
   "source": [
    "### Creating a Loop for a Single Page"
   ]
  },
  {
   "cell_type": "code",
   "execution_count": 9,
   "metadata": {},
   "outputs": [
    {
     "data": {
      "text/html": [
       "<div>\n",
       "<style scoped>\n",
       "    .dataframe tbody tr th:only-of-type {\n",
       "        vertical-align: middle;\n",
       "    }\n",
       "\n",
       "    .dataframe tbody tr th {\n",
       "        vertical-align: top;\n",
       "    }\n",
       "\n",
       "    .dataframe thead th {\n",
       "        text-align: right;\n",
       "    }\n",
       "</style>\n",
       "<table border=\"1\" class=\"dataframe\">\n",
       "  <thead>\n",
       "    <tr style=\"text-align: right;\">\n",
       "      <th></th>\n",
       "      <th>ArticleID</th>\n",
       "      <th>ArticleName</th>\n",
       "      <th>URL</th>\n",
       "    </tr>\n",
       "  </thead>\n",
       "  <tbody>\n",
       "    <tr>\n",
       "      <th>0</th>\n",
       "      <td>36528058</td>\n",
       "      <td>The N-terminal domain of human mitochondrial h...</td>\n",
       "      <td>https://pubmed.ncbi.nlm.nih.gov/36528058/</td>\n",
       "    </tr>\n",
       "    <tr>\n",
       "      <th>1</th>\n",
       "      <td>36227977</td>\n",
       "      <td>Real-time dynamic single-molecule protein sequ...</td>\n",
       "      <td>https://pubmed.ncbi.nlm.nih.gov/36227977/</td>\n",
       "    </tr>\n",
       "    <tr>\n",
       "      <th>2</th>\n",
       "      <td>35934486</td>\n",
       "      <td>Quantitative methods to study helicase, DNA po...</td>\n",
       "      <td>https://pubmed.ncbi.nlm.nih.gov/35934486/</td>\n",
       "    </tr>\n",
       "    <tr>\n",
       "      <th>3</th>\n",
       "      <td>35437807</td>\n",
       "      <td>The intrinsically disordered CARDs-Helicase li...</td>\n",
       "      <td>https://pubmed.ncbi.nlm.nih.gov/35437807/</td>\n",
       "    </tr>\n",
       "    <tr>\n",
       "      <th>4</th>\n",
       "      <td>33870232</td>\n",
       "      <td>Assembly and Cryo-EM structure determination o...</td>\n",
       "      <td>https://pubmed.ncbi.nlm.nih.gov/33870232/</td>\n",
       "    </tr>\n",
       "  </tbody>\n",
       "</table>\n",
       "</div>"
      ],
      "text/plain": [
       "  ArticleID                                        ArticleName  \\\n",
       "0  36528058  The N-terminal domain of human mitochondrial h...   \n",
       "1  36227977  Real-time dynamic single-molecule protein sequ...   \n",
       "2  35934486  Quantitative methods to study helicase, DNA po...   \n",
       "3  35437807  The intrinsically disordered CARDs-Helicase li...   \n",
       "4  33870232  Assembly and Cryo-EM structure determination o...   \n",
       "\n",
       "                                         URL  \n",
       "0  https://pubmed.ncbi.nlm.nih.gov/36528058/  \n",
       "1  https://pubmed.ncbi.nlm.nih.gov/36227977/  \n",
       "2  https://pubmed.ncbi.nlm.nih.gov/35934486/  \n",
       "3  https://pubmed.ncbi.nlm.nih.gov/35437807/  \n",
       "4  https://pubmed.ncbi.nlm.nih.gov/33870232/  "
      ]
     },
     "execution_count": 9,
     "metadata": {},
     "output_type": "execute_result"
    }
   ],
   "source": [
    "df = pd.DataFrame(columns= ['ArticleID', 'ArticleName', 'URL'])\n",
    "for document in documents:\n",
    "    article_id = document.get('data-article-id')\n",
    "    article_name = document.contents[0].strip()\n",
    "    article_url = BASE_URL + document.get('href')\n",
    "\n",
    "    df.loc[len(df.index)] = [article_id, article_name, article_url]\n",
    "df.head()"
   ]
  },
  {
   "cell_type": "code",
   "execution_count": 10,
   "metadata": {},
   "outputs": [
    {
     "data": {
      "text/plain": [
       "<Response [200]>"
      ]
     },
     "execution_count": 10,
     "metadata": {},
     "output_type": "execute_result"
    }
   ],
   "source": [
    "article_page = requests.get(url= df.loc[0]['URL'])\n",
    "article_page"
   ]
  },
  {
   "cell_type": "code",
   "execution_count": 11,
   "metadata": {},
   "outputs": [
    {
     "data": {
      "text/plain": [
       "<span class=\"authors-list-item\"><a class=\"full-name\" data-ga-action=\"author_link\" data-ga-category=\"search\" data-ga-label=\"Laura C Johnson\" href=\"/?term=Johnson+LC&amp;cauthor_id=36528058\" ref=\"linksrc=author_name_link\">Laura C Johnson</a><sup class=\"affiliation-links\"><span class=\"author-sup-separator\"> </span><a class=\"affiliation-link\" href=\"#affiliation-1\" ref=\"linksrc=author_aff\" title=\"Department of Biochemistry and Molecular Biology, Robert Wood Johnson Medical School, Rutgers University, Piscataway, New Jersey, USA; Graduate School of Biomedical Sciences, Robert Wood Johnson Medical School, Rutgers University, Piscataway, New Jersey, USA.\">\n",
       "                1\n",
       "              </a></sup><span class=\"comma\">, </span></span>"
      ]
     },
     "execution_count": 11,
     "metadata": {},
     "output_type": "execute_result"
    }
   ],
   "source": [
    "article_soup = BeautifulSoup(article_page.content, 'html.parser')\n",
    "\n",
    "authors_list_items = article_soup.findAll(class_='authors-list-item')\n",
    "authors_list_items[0]"
   ]
  },
  {
   "cell_type": "code",
   "execution_count": 12,
   "metadata": {},
   "outputs": [
    {
     "data": {
      "text/plain": [
       "'Laura C Johnson'"
      ]
     },
     "execution_count": 12,
     "metadata": {},
     "output_type": "execute_result"
    }
   ],
   "source": [
    "authors_list_items[0].find(class_='full-name').contents[0]"
   ]
  },
  {
   "cell_type": "code",
   "execution_count": 13,
   "metadata": {},
   "outputs": [
    {
     "data": {
      "text/plain": [
       "'Department of Biochemistry and Molecular Biology, Robert Wood Johnson Medical School, Rutgers University, Piscataway, New Jersey, USA; Graduate School of Biomedical Sciences, Robert Wood Johnson Medical School, Rutgers University, Piscataway, New Jersey, USA.'"
      ]
     },
     "execution_count": 13,
     "metadata": {},
     "output_type": "execute_result"
    }
   ],
   "source": [
    "authors_list_items[0].find(class_='affiliation-link').get('title')"
   ]
  },
  {
   "cell_type": "code",
   "execution_count": 14,
   "metadata": {},
   "outputs": [
    {
     "data": {
      "text/plain": [
       "'Twinkle is the ring-shaped replicative helicase within the human mitochondria with high homology to bacteriophage T7 gp4 helicase-primase. Unlike many orthologs of Twinkle, the N-terminal domain (NTD) of human Twinkle has lost its primase activity through evolutionarily acquired mutations. The NTD has no demonstrated activity thus far; its role has remained unclear. Here, we biochemically characterize the isolated NTD and C-terminal domain (CTD) with linker to decipher their contributions to full-length Twinkle activities. This novel CTD construct hydrolyzes ATP, has weak DNA unwinding activity, and assists DNA polymerase γ (Polγ)-catalyzed strand-displacement synthesis on short replication forks. However, CTD fails to promote multikilobase length product formation by Polγ in rolling-circle DNA synthesis. Thus, CTD retains all the motor functions but struggles to implement them for processive translocation. We show that NTD has DNA-binding activity, and its presence stabilizes Twinkle oligomerization. CTD oligomerizes on its own, but the loss of NTD results in heterogeneously sized oligomeric species. The CTD also exhibits weaker and salt-sensitive DNA binding compared with full-length Twinkle. Based on these results, we propose that NTD directly contributes to DNA binding and holds the DNA in place behind the central channel of the CTD like a \"doorstop,\" preventing helicase slippages and sustaining processive unwinding. Consistent with this model, mitochondrial single-stranded DNA-binding protein (mtSSB) compensate for the NTD loss and partially restore kilobase length DNA synthesis by CTD and Polγ. The implications of our studies are foundational for understanding the mechanisms of disease-causing Twinkle mutants that lie in the NTD.'"
      ]
     },
     "execution_count": 14,
     "metadata": {},
     "output_type": "execute_result"
    }
   ],
   "source": [
    "article_soup.find('div', {'id': 'eng-abstract'}).find('p').text.strip()"
   ]
  },
  {
   "attachments": {},
   "cell_type": "markdown",
   "metadata": {},
   "source": [
    "Note: This needs to be made smarter...right now anyuthiung wil raise it a general exception"
   ]
  },
  {
   "cell_type": "code",
   "execution_count": 15,
   "metadata": {},
   "outputs": [],
   "source": [
    "articles = pd.DataFrame(columns= ['ArticleID','Abstract'])\n",
    "for i, entry in df.iterrows():\n",
    "    try:\n",
    "        response = requests.get(entry['URL'])\n",
    "        if response.status_code == 200:\n",
    "            article_soup = BeautifulSoup(response.content, 'html.parser')\n",
    "            authors_list_items = article_soup.findAll(class_='authors-list-item')\n",
    "            author_names = [name.find(class_='full-name').contents[0] for name in authors_list_items]\n",
    "            if SAMPLE_SEARCH_TERM not in author_names: continue\n",
    "            abstract = article_soup.find('div', {'id': 'eng-abstract'}).find('p').text.strip()\n",
    "            articles.loc[len(articles.index)] = [entry['ArticleID'], abstract]\n",
    "            time.sleep(5)\n",
    "        else:\n",
    "            print(f\"The article {entry['ArticleName']} could not be found at the URL: {entry['URL']}\")\n",
    "    except Exception as e:\n",
    "        print(f\"Exception raised for the article {entry['ArticleName']} at the URL: {entry['URL']}\")"
   ]
  },
  {
   "cell_type": "code",
   "execution_count": 16,
   "metadata": {},
   "outputs": [
    {
     "data": {
      "text/html": [
       "<div>\n",
       "<style scoped>\n",
       "    .dataframe tbody tr th:only-of-type {\n",
       "        vertical-align: middle;\n",
       "    }\n",
       "\n",
       "    .dataframe tbody tr th {\n",
       "        vertical-align: top;\n",
       "    }\n",
       "\n",
       "    .dataframe thead th {\n",
       "        text-align: right;\n",
       "    }\n",
       "</style>\n",
       "<table border=\"1\" class=\"dataframe\">\n",
       "  <thead>\n",
       "    <tr style=\"text-align: right;\">\n",
       "      <th></th>\n",
       "      <th>ArticleID</th>\n",
       "      <th>Abstract</th>\n",
       "    </tr>\n",
       "  </thead>\n",
       "  <tbody>\n",
       "    <tr>\n",
       "      <th>0</th>\n",
       "      <td>36528058</td>\n",
       "      <td>Twinkle is the ring-shaped replicative helicas...</td>\n",
       "    </tr>\n",
       "    <tr>\n",
       "      <th>1</th>\n",
       "      <td>36227977</td>\n",
       "      <td>Studies of the proteome would benefit greatly ...</td>\n",
       "    </tr>\n",
       "    <tr>\n",
       "      <th>2</th>\n",
       "      <td>35934486</td>\n",
       "      <td>Genome replication is accomplished by highly r...</td>\n",
       "    </tr>\n",
       "    <tr>\n",
       "      <th>3</th>\n",
       "      <td>35437807</td>\n",
       "      <td>The innate immune receptor RIG-I provides a fi...</td>\n",
       "    </tr>\n",
       "    <tr>\n",
       "      <th>4</th>\n",
       "      <td>33870232</td>\n",
       "      <td>In yeast mitochondria, transcription initiatio...</td>\n",
       "    </tr>\n",
       "  </tbody>\n",
       "</table>\n",
       "</div>"
      ],
      "text/plain": [
       "  ArticleID                                           Abstract\n",
       "0  36528058  Twinkle is the ring-shaped replicative helicas...\n",
       "1  36227977  Studies of the proteome would benefit greatly ...\n",
       "2  35934486  Genome replication is accomplished by highly r...\n",
       "3  35437807  The innate immune receptor RIG-I provides a fi...\n",
       "4  33870232  In yeast mitochondria, transcription initiatio..."
      ]
     },
     "execution_count": 16,
     "metadata": {},
     "output_type": "execute_result"
    }
   ],
   "source": [
    "articles.head()"
   ]
  },
  {
   "cell_type": "code",
   "execution_count": 17,
   "metadata": {},
   "outputs": [],
   "source": [
    "abstracts = pd.merge(df, articles, on='ArticleID')"
   ]
  },
  {
   "cell_type": "code",
   "execution_count": 18,
   "metadata": {},
   "outputs": [
    {
     "data": {
      "text/html": [
       "<div>\n",
       "<style scoped>\n",
       "    .dataframe tbody tr th:only-of-type {\n",
       "        vertical-align: middle;\n",
       "    }\n",
       "\n",
       "    .dataframe tbody tr th {\n",
       "        vertical-align: top;\n",
       "    }\n",
       "\n",
       "    .dataframe thead th {\n",
       "        text-align: right;\n",
       "    }\n",
       "</style>\n",
       "<table border=\"1\" class=\"dataframe\">\n",
       "  <thead>\n",
       "    <tr style=\"text-align: right;\">\n",
       "      <th></th>\n",
       "      <th>ArticleID</th>\n",
       "      <th>ArticleName</th>\n",
       "      <th>URL</th>\n",
       "      <th>Abstract</th>\n",
       "    </tr>\n",
       "  </thead>\n",
       "  <tbody>\n",
       "    <tr>\n",
       "      <th>0</th>\n",
       "      <td>36528058</td>\n",
       "      <td>The N-terminal domain of human mitochondrial h...</td>\n",
       "      <td>https://pubmed.ncbi.nlm.nih.gov/36528058/</td>\n",
       "      <td>Twinkle is the ring-shaped replicative helicas...</td>\n",
       "    </tr>\n",
       "    <tr>\n",
       "      <th>1</th>\n",
       "      <td>36227977</td>\n",
       "      <td>Real-time dynamic single-molecule protein sequ...</td>\n",
       "      <td>https://pubmed.ncbi.nlm.nih.gov/36227977/</td>\n",
       "      <td>Studies of the proteome would benefit greatly ...</td>\n",
       "    </tr>\n",
       "    <tr>\n",
       "      <th>2</th>\n",
       "      <td>35934486</td>\n",
       "      <td>Quantitative methods to study helicase, DNA po...</td>\n",
       "      <td>https://pubmed.ncbi.nlm.nih.gov/35934486/</td>\n",
       "      <td>Genome replication is accomplished by highly r...</td>\n",
       "    </tr>\n",
       "    <tr>\n",
       "      <th>3</th>\n",
       "      <td>35437807</td>\n",
       "      <td>The intrinsically disordered CARDs-Helicase li...</td>\n",
       "      <td>https://pubmed.ncbi.nlm.nih.gov/35437807/</td>\n",
       "      <td>The innate immune receptor RIG-I provides a fi...</td>\n",
       "    </tr>\n",
       "    <tr>\n",
       "      <th>4</th>\n",
       "      <td>33870232</td>\n",
       "      <td>Assembly and Cryo-EM structure determination o...</td>\n",
       "      <td>https://pubmed.ncbi.nlm.nih.gov/33870232/</td>\n",
       "      <td>In yeast mitochondria, transcription initiatio...</td>\n",
       "    </tr>\n",
       "  </tbody>\n",
       "</table>\n",
       "</div>"
      ],
      "text/plain": [
       "  ArticleID                                        ArticleName  \\\n",
       "0  36528058  The N-terminal domain of human mitochondrial h...   \n",
       "1  36227977  Real-time dynamic single-molecule protein sequ...   \n",
       "2  35934486  Quantitative methods to study helicase, DNA po...   \n",
       "3  35437807  The intrinsically disordered CARDs-Helicase li...   \n",
       "4  33870232  Assembly and Cryo-EM structure determination o...   \n",
       "\n",
       "                                         URL  \\\n",
       "0  https://pubmed.ncbi.nlm.nih.gov/36528058/   \n",
       "1  https://pubmed.ncbi.nlm.nih.gov/36227977/   \n",
       "2  https://pubmed.ncbi.nlm.nih.gov/35934486/   \n",
       "3  https://pubmed.ncbi.nlm.nih.gov/35437807/   \n",
       "4  https://pubmed.ncbi.nlm.nih.gov/33870232/   \n",
       "\n",
       "                                            Abstract  \n",
       "0  Twinkle is the ring-shaped replicative helicas...  \n",
       "1  Studies of the proteome would benefit greatly ...  \n",
       "2  Genome replication is accomplished by highly r...  \n",
       "3  The innate immune receptor RIG-I provides a fi...  \n",
       "4  In yeast mitochondria, transcription initiatio...  "
      ]
     },
     "execution_count": 18,
     "metadata": {},
     "output_type": "execute_result"
    }
   ],
   "source": [
    "abstracts.head()"
   ]
  },
  {
   "attachments": {},
   "cell_type": "markdown",
   "metadata": {},
   "source": [
    "## Doing Some Analysis"
   ]
  },
  {
   "cell_type": "code",
   "execution_count": 19,
   "metadata": {},
   "outputs": [],
   "source": [
    "import nltk\n",
    "from nltk.corpus import stopwords\n",
    "from nltk.tokenize import word_tokenize\n",
    "\n",
    "stop_words = stopwords.words('english')"
   ]
  },
  {
   "cell_type": "code",
   "execution_count": 20,
   "metadata": {},
   "outputs": [
    {
     "data": {
      "text/plain": [
       "['Twinkle',\n",
       " 'ring-shaped',\n",
       " 'replicative',\n",
       " 'helicase',\n",
       " 'within',\n",
       " 'human',\n",
       " 'mitochondria',\n",
       " 'high',\n",
       " 'homology',\n",
       " 'bacteriophage',\n",
       " 'T7',\n",
       " 'gp4',\n",
       " 'helicase-primase',\n",
       " 'Unlike',\n",
       " 'many',\n",
       " 'orthologs',\n",
       " 'Twinkle',\n",
       " 'N-terminal',\n",
       " 'domain',\n",
       " 'NTD',\n",
       " 'human',\n",
       " 'Twinkle',\n",
       " 'lost',\n",
       " 'primase',\n",
       " 'activity',\n",
       " 'evolutionarily',\n",
       " 'acquired',\n",
       " 'mutations',\n",
       " 'NTD',\n",
       " 'demonstrated',\n",
       " 'activity',\n",
       " 'thus',\n",
       " 'far',\n",
       " ';',\n",
       " 'role',\n",
       " 'remained',\n",
       " 'unclear',\n",
       " 'biochemically',\n",
       " 'characterize',\n",
       " 'isolated',\n",
       " 'NTD',\n",
       " 'C-terminal',\n",
       " 'domain',\n",
       " 'CTD',\n",
       " 'linker',\n",
       " 'decipher',\n",
       " 'contributions',\n",
       " 'full-length',\n",
       " 'Twinkle',\n",
       " 'activities',\n",
       " 'novel',\n",
       " 'CTD',\n",
       " 'construct',\n",
       " 'hydrolyzes',\n",
       " 'ATP',\n",
       " 'weak',\n",
       " 'DNA',\n",
       " 'unwinding',\n",
       " 'activity',\n",
       " 'assists',\n",
       " 'DNA',\n",
       " 'polymerase',\n",
       " 'γ',\n",
       " 'Polγ',\n",
       " '-catalyzed',\n",
       " 'strand-displacement',\n",
       " 'synthesis',\n",
       " 'short',\n",
       " 'replication',\n",
       " 'forks',\n",
       " 'However',\n",
       " 'CTD',\n",
       " 'fails',\n",
       " 'promote',\n",
       " 'multikilobase',\n",
       " 'length',\n",
       " 'product',\n",
       " 'formation',\n",
       " 'Polγ',\n",
       " 'rolling-circle',\n",
       " 'DNA',\n",
       " 'synthesis',\n",
       " 'Thus',\n",
       " 'CTD',\n",
       " 'retains',\n",
       " 'motor',\n",
       " 'functions',\n",
       " 'struggles',\n",
       " 'implement',\n",
       " 'processive',\n",
       " 'translocation',\n",
       " 'show',\n",
       " 'NTD',\n",
       " 'DNA-binding',\n",
       " 'activity',\n",
       " 'presence',\n",
       " 'stabilizes',\n",
       " 'Twinkle',\n",
       " 'oligomerization',\n",
       " 'CTD',\n",
       " 'oligomerizes',\n",
       " 'loss',\n",
       " 'NTD',\n",
       " 'results',\n",
       " 'heterogeneously',\n",
       " 'sized',\n",
       " 'oligomeric',\n",
       " 'species',\n",
       " 'CTD',\n",
       " 'also',\n",
       " 'exhibits',\n",
       " 'weaker',\n",
       " 'salt-sensitive',\n",
       " 'DNA',\n",
       " 'binding',\n",
       " 'compared',\n",
       " 'full-length',\n",
       " 'Twinkle',\n",
       " 'Based',\n",
       " 'results',\n",
       " 'propose',\n",
       " 'NTD',\n",
       " 'directly',\n",
       " 'contributes',\n",
       " 'DNA',\n",
       " 'binding',\n",
       " 'holds',\n",
       " 'DNA',\n",
       " 'place',\n",
       " 'behind',\n",
       " 'central',\n",
       " 'channel',\n",
       " 'CTD',\n",
       " 'like',\n",
       " '``',\n",
       " 'doorstop',\n",
       " \"''\",\n",
       " 'preventing',\n",
       " 'helicase',\n",
       " 'slippages',\n",
       " 'sustaining',\n",
       " 'processive',\n",
       " 'unwinding',\n",
       " 'Consistent',\n",
       " 'model',\n",
       " 'mitochondrial',\n",
       " 'single-stranded',\n",
       " 'DNA-binding',\n",
       " 'protein',\n",
       " 'mtSSB',\n",
       " 'compensate',\n",
       " 'NTD',\n",
       " 'loss',\n",
       " 'partially',\n",
       " 'restore',\n",
       " 'kilobase',\n",
       " 'length',\n",
       " 'DNA',\n",
       " 'synthesis',\n",
       " 'CTD',\n",
       " 'Polγ',\n",
       " 'implications',\n",
       " 'studies',\n",
       " 'foundational',\n",
       " 'understanding',\n",
       " 'mechanisms',\n",
       " 'disease-causing',\n",
       " 'Twinkle',\n",
       " 'mutants',\n",
       " 'lie',\n",
       " 'NTD']"
      ]
     },
     "execution_count": 20,
     "metadata": {},
     "output_type": "execute_result"
    }
   ],
   "source": [
    "tokenized_abstract = word_tokenize(abstracts.loc[0]['Abstract'])\n",
    "tokenized_abstract = [w for w in tokenized_abstract if not w.lower() in stop_words]\n",
    "tokenized_abstract = [w for w in tokenized_abstract if not w.lower() in [',','.','?','!','\"', \"'\", '(', ')']]\n",
    "tokenized_abstract"
   ]
  },
  {
   "attachments": {},
   "cell_type": "markdown",
   "metadata": {},
   "source": [
    "Note: More NLTK work will need to be done to extract the thruly meaningful words and phrases from the text...this is a very basic version for testing"
   ]
  },
  {
   "cell_type": "code",
   "execution_count": 21,
   "metadata": {},
   "outputs": [
    {
     "data": {
      "text/html": [
       "<div>\n",
       "<style scoped>\n",
       "    .dataframe tbody tr th:only-of-type {\n",
       "        vertical-align: middle;\n",
       "    }\n",
       "\n",
       "    .dataframe tbody tr th {\n",
       "        vertical-align: top;\n",
       "    }\n",
       "\n",
       "    .dataframe thead th {\n",
       "        text-align: right;\n",
       "    }\n",
       "</style>\n",
       "<table border=\"1\" class=\"dataframe\">\n",
       "  <thead>\n",
       "    <tr style=\"text-align: right;\">\n",
       "      <th></th>\n",
       "      <th>ArticleID</th>\n",
       "      <th>Keywords</th>\n",
       "    </tr>\n",
       "  </thead>\n",
       "  <tbody>\n",
       "    <tr>\n",
       "      <th>0</th>\n",
       "      <td>36528058</td>\n",
       "      <td>[Twinkle, ring-shaped, replicative, helicase, ...</td>\n",
       "    </tr>\n",
       "    <tr>\n",
       "      <th>1</th>\n",
       "      <td>36227977</td>\n",
       "      <td>[Studies, proteome, would, benefit, greatly, m...</td>\n",
       "    </tr>\n",
       "    <tr>\n",
       "      <th>2</th>\n",
       "      <td>35934486</td>\n",
       "      <td>[Genome, replication, accomplished, highly, re...</td>\n",
       "    </tr>\n",
       "    <tr>\n",
       "      <th>3</th>\n",
       "      <td>35437807</td>\n",
       "      <td>[innate, immune, receptor, RIG-I, provides, fi...</td>\n",
       "    </tr>\n",
       "    <tr>\n",
       "      <th>4</th>\n",
       "      <td>33870232</td>\n",
       "      <td>[yeast, mitochondria, transcription, initiatio...</td>\n",
       "    </tr>\n",
       "  </tbody>\n",
       "</table>\n",
       "</div>"
      ],
      "text/plain": [
       "  ArticleID                                           Keywords\n",
       "0  36528058  [Twinkle, ring-shaped, replicative, helicase, ...\n",
       "1  36227977  [Studies, proteome, would, benefit, greatly, m...\n",
       "2  35934486  [Genome, replication, accomplished, highly, re...\n",
       "3  35437807  [innate, immune, receptor, RIG-I, provides, fi...\n",
       "4  33870232  [yeast, mitochondria, transcription, initiatio..."
      ]
     },
     "execution_count": 21,
     "metadata": {},
     "output_type": "execute_result"
    }
   ],
   "source": [
    "abstract_keywords = pd.DataFrame(columns= ['ArticleID', 'Keywords'])\n",
    "for i, entry in abstracts.iterrows():\n",
    "    tokenized_abstract = word_tokenize(entry['Abstract'])\n",
    "    tokenized_abstract = [w for w in tokenized_abstract if not w.lower() in stop_words]\n",
    "    tokenized_abstract = [w for w in tokenized_abstract if not w.lower() in [',','.','?','!','\"', \"'\", '(', ')']]\n",
    "    abstract_keywords.loc[len(abstract_keywords.index)] = [entry['ArticleID'], tokenized_abstract]\n",
    "\n",
    "abstract_keywords.head()"
   ]
  },
  {
   "cell_type": "code",
   "execution_count": 22,
   "metadata": {},
   "outputs": [
    {
     "data": {
      "text/html": [
       "<div>\n",
       "<style scoped>\n",
       "    .dataframe tbody tr th:only-of-type {\n",
       "        vertical-align: middle;\n",
       "    }\n",
       "\n",
       "    .dataframe tbody tr th {\n",
       "        vertical-align: top;\n",
       "    }\n",
       "\n",
       "    .dataframe thead th {\n",
       "        text-align: right;\n",
       "    }\n",
       "</style>\n",
       "<table border=\"1\" class=\"dataframe\">\n",
       "  <thead>\n",
       "    <tr style=\"text-align: right;\">\n",
       "      <th></th>\n",
       "      <th>ArticleID</th>\n",
       "      <th>ArticleName</th>\n",
       "      <th>URL</th>\n",
       "      <th>Abstract</th>\n",
       "      <th>Keywords</th>\n",
       "    </tr>\n",
       "  </thead>\n",
       "  <tbody>\n",
       "    <tr>\n",
       "      <th>0</th>\n",
       "      <td>36528058</td>\n",
       "      <td>The N-terminal domain of human mitochondrial h...</td>\n",
       "      <td>https://pubmed.ncbi.nlm.nih.gov/36528058/</td>\n",
       "      <td>Twinkle is the ring-shaped replicative helicas...</td>\n",
       "      <td>[Twinkle, ring-shaped, replicative, helicase, ...</td>\n",
       "    </tr>\n",
       "    <tr>\n",
       "      <th>1</th>\n",
       "      <td>36227977</td>\n",
       "      <td>Real-time dynamic single-molecule protein sequ...</td>\n",
       "      <td>https://pubmed.ncbi.nlm.nih.gov/36227977/</td>\n",
       "      <td>Studies of the proteome would benefit greatly ...</td>\n",
       "      <td>[Studies, proteome, would, benefit, greatly, m...</td>\n",
       "    </tr>\n",
       "    <tr>\n",
       "      <th>2</th>\n",
       "      <td>35934486</td>\n",
       "      <td>Quantitative methods to study helicase, DNA po...</td>\n",
       "      <td>https://pubmed.ncbi.nlm.nih.gov/35934486/</td>\n",
       "      <td>Genome replication is accomplished by highly r...</td>\n",
       "      <td>[Genome, replication, accomplished, highly, re...</td>\n",
       "    </tr>\n",
       "    <tr>\n",
       "      <th>3</th>\n",
       "      <td>35437807</td>\n",
       "      <td>The intrinsically disordered CARDs-Helicase li...</td>\n",
       "      <td>https://pubmed.ncbi.nlm.nih.gov/35437807/</td>\n",
       "      <td>The innate immune receptor RIG-I provides a fi...</td>\n",
       "      <td>[innate, immune, receptor, RIG-I, provides, fi...</td>\n",
       "    </tr>\n",
       "    <tr>\n",
       "      <th>4</th>\n",
       "      <td>33870232</td>\n",
       "      <td>Assembly and Cryo-EM structure determination o...</td>\n",
       "      <td>https://pubmed.ncbi.nlm.nih.gov/33870232/</td>\n",
       "      <td>In yeast mitochondria, transcription initiatio...</td>\n",
       "      <td>[yeast, mitochondria, transcription, initiatio...</td>\n",
       "    </tr>\n",
       "  </tbody>\n",
       "</table>\n",
       "</div>"
      ],
      "text/plain": [
       "  ArticleID                                        ArticleName  \\\n",
       "0  36528058  The N-terminal domain of human mitochondrial h...   \n",
       "1  36227977  Real-time dynamic single-molecule protein sequ...   \n",
       "2  35934486  Quantitative methods to study helicase, DNA po...   \n",
       "3  35437807  The intrinsically disordered CARDs-Helicase li...   \n",
       "4  33870232  Assembly and Cryo-EM structure determination o...   \n",
       "\n",
       "                                         URL  \\\n",
       "0  https://pubmed.ncbi.nlm.nih.gov/36528058/   \n",
       "1  https://pubmed.ncbi.nlm.nih.gov/36227977/   \n",
       "2  https://pubmed.ncbi.nlm.nih.gov/35934486/   \n",
       "3  https://pubmed.ncbi.nlm.nih.gov/35437807/   \n",
       "4  https://pubmed.ncbi.nlm.nih.gov/33870232/   \n",
       "\n",
       "                                            Abstract  \\\n",
       "0  Twinkle is the ring-shaped replicative helicas...   \n",
       "1  Studies of the proteome would benefit greatly ...   \n",
       "2  Genome replication is accomplished by highly r...   \n",
       "3  The innate immune receptor RIG-I provides a fi...   \n",
       "4  In yeast mitochondria, transcription initiatio...   \n",
       "\n",
       "                                            Keywords  \n",
       "0  [Twinkle, ring-shaped, replicative, helicase, ...  \n",
       "1  [Studies, proteome, would, benefit, greatly, m...  \n",
       "2  [Genome, replication, accomplished, highly, re...  \n",
       "3  [innate, immune, receptor, RIG-I, provides, fi...  \n",
       "4  [yeast, mitochondria, transcription, initiatio...  "
      ]
     },
     "execution_count": 22,
     "metadata": {},
     "output_type": "execute_result"
    }
   ],
   "source": [
    "abstracts = pd.merge(abstracts, abstract_keywords, on='ArticleID')\n",
    "abstracts.head()"
   ]
  },
  {
   "cell_type": "code",
   "execution_count": 23,
   "metadata": {},
   "outputs": [],
   "source": [
    "# Let's Put this in a CSV for just-in-case storage\n",
    "abstracts.to_csv('abstracts.csv')"
   ]
  },
  {
   "cell_type": "code",
   "execution_count": 24,
   "metadata": {},
   "outputs": [],
   "source": [
    "import matplotlib.pyplot as plt\n",
    "from wordcloud import WordCloud"
   ]
  },
  {
   "attachments": {},
   "cell_type": "markdown",
   "metadata": {},
   "source": [
    "### Basic (with very little NLTK processing) Word Cloud for 1st Page Abstract Results"
   ]
  },
  {
   "cell_type": "code",
   "execution_count": 25,
   "metadata": {},
   "outputs": [
    {
     "data": {
      "text/plain": [
       "<matplotlib.image.AxesImage at 0x22b9c059ea0>"
      ]
     },
     "execution_count": 25,
     "metadata": {},
     "output_type": "execute_result"
    },
    {
     "data": {
      "image/png": "[encoded data removed]",
      "text/plain": [
       "<Figure size 640x480 with 1 Axes>"
      ]
     },
     "metadata": {},
     "output_type": "display_data"
    }
   ],
   "source": [
    "all_keywords = []\n",
    "for i, entry in abstracts.iterrows():\n",
    "    all_keywords += entry['Keywords'] \n",
    "\n",
    "keyword_string = (' ').join(all_keywords)\n",
    "wordcloud = WordCloud(width = 1000, height = 500).generate(keyword_string)\n",
    "plt.imshow(wordcloud)"
   ]
  },
  {
   "attachments": {},
   "cell_type": "markdown",
   "metadata": {},
   "source": [
    "## Getting Cited Information (Within Pubmed Only)"
   ]
  },
  {
   "cell_type": "code",
   "execution_count": 26,
   "metadata": {},
   "outputs": [],
   "source": [
    "from xml.etree import ElementTree"
   ]
  },
  {
   "cell_type": "code",
   "execution_count": 27,
   "metadata": {},
   "outputs": [],
   "source": [
    "CITATIONS_URL = 'https://eutils.ncbi.nlm.nih.gov/entrez/eutils/elink.fcgi?dbfrom=pubmed&linkname=pubmed_pmc_refs&id='"
   ]
  },
  {
   "cell_type": "code",
   "execution_count": 32,
   "metadata": {},
   "outputs": [
    {
     "name": "stdout",
     "output_type": "stream",
     "text": [
      "Article ID: 33127643\n",
      "Number of Citations: 14\n"
     ]
    }
   ],
   "source": [
    "# Testing with one Article\n",
    "article_id = '33127643'\n",
    "print(f\"Article ID: {article_id}\")\n",
    "response = requests.get(CITATIONS_URL + article_id)\n",
    "if response.status_code == 200:\n",
    "    xmlsoup = BeautifulSoup(response.content, features=\"xml\")\n",
    "    print(f\"Number of Citations: {len(xmlsoup.findAll('Id'))}\")\n",
    "else:\n",
    "    print(f\"Could not connect to API for ArticleID: {entry['ArticleID']}, status code was: {response.status_code}\")"
   ]
  },
  {
   "cell_type": "code",
   "execution_count": 33,
   "metadata": {},
   "outputs": [
    {
     "data": {
      "text/html": [
       "<div>\n",
       "<style scoped>\n",
       "    .dataframe tbody tr th:only-of-type {\n",
       "        vertical-align: middle;\n",
       "    }\n",
       "\n",
       "    .dataframe tbody tr th {\n",
       "        vertical-align: top;\n",
       "    }\n",
       "\n",
       "    .dataframe thead th {\n",
       "        text-align: right;\n",
       "    }\n",
       "</style>\n",
       "<table border=\"1\" class=\"dataframe\">\n",
       "  <thead>\n",
       "    <tr style=\"text-align: right;\">\n",
       "      <th></th>\n",
       "      <th>ArticleID</th>\n",
       "      <th>NumberOfCitations</th>\n",
       "    </tr>\n",
       "  </thead>\n",
       "  <tbody>\n",
       "    <tr>\n",
       "      <th>0</th>\n",
       "      <td>36528058</td>\n",
       "      <td>1</td>\n",
       "    </tr>\n",
       "    <tr>\n",
       "      <th>1</th>\n",
       "      <td>36227977</td>\n",
       "      <td>2</td>\n",
       "    </tr>\n",
       "    <tr>\n",
       "      <th>2</th>\n",
       "      <td>35934486</td>\n",
       "      <td>1</td>\n",
       "    </tr>\n",
       "    <tr>\n",
       "      <th>3</th>\n",
       "      <td>35437807</td>\n",
       "      <td>4</td>\n",
       "    </tr>\n",
       "    <tr>\n",
       "      <th>4</th>\n",
       "      <td>33870232</td>\n",
       "      <td>2</td>\n",
       "    </tr>\n",
       "  </tbody>\n",
       "</table>\n",
       "</div>"
      ],
      "text/plain": [
       "  ArticleID  NumberOfCitations\n",
       "0  36528058                  1\n",
       "1  36227977                  2\n",
       "2  35934486                  1\n",
       "3  35437807                  4\n",
       "4  33870232                  2"
      ]
     },
     "execution_count": 33,
     "metadata": {},
     "output_type": "execute_result"
    }
   ],
   "source": [
    "# # https://eutils.ncbi.nlm.nih.gov/entrez/eutils/elink.fcgi?dbfrom=pubmed&linkname=pubmed_pmc_refs&id=33127643\n",
    "num_citations = pd.DataFrame(columns= ['ArticleID', 'NumberOfCitations'])\n",
    "for i, entry in abstracts.iterrows():\n",
    "    response = requests.get(CITATIONS_URL + entry['ArticleID'])\n",
    "    if response.status_code == 200:\n",
    "        xmlsoup = BeautifulSoup(response.content, features=\"xml\")\n",
    "        num_citations.loc[len(num_citations.index)] = [entry['ArticleID'], len(xmlsoup.findAll('Id'))]\n",
    "    else:\n",
    "        print(f\"Could not connect to API for ArticleID: {entry['ArticleID']}, status code was: {response.status_code}\")\n",
    "    time.sleep(1)\n",
    "\n",
    "num_citations.head()"
   ]
  },
  {
   "cell_type": "code",
   "execution_count": null,
   "metadata": {},
   "outputs": [],
   "source": [
    "abstracts = pd.merge(abstracts, num_citations, on='ArticleID')"
   ]
  },
  {
   "cell_type": "code",
   "execution_count": 40,
   "metadata": {},
   "outputs": [
    {
     "data": {
      "text/html": [
       "<div>\n",
       "<style scoped>\n",
       "    .dataframe tbody tr th:only-of-type {\n",
       "        vertical-align: middle;\n",
       "    }\n",
       "\n",
       "    .dataframe tbody tr th {\n",
       "        vertical-align: top;\n",
       "    }\n",
       "\n",
       "    .dataframe thead th {\n",
       "        text-align: right;\n",
       "    }\n",
       "</style>\n",
       "<table border=\"1\" class=\"dataframe\">\n",
       "  <thead>\n",
       "    <tr style=\"text-align: right;\">\n",
       "      <th></th>\n",
       "      <th>ArticleID</th>\n",
       "      <th>ArticleName</th>\n",
       "      <th>URL</th>\n",
       "      <th>Abstract</th>\n",
       "      <th>Keywords</th>\n",
       "      <th>NumberOfCitations</th>\n",
       "    </tr>\n",
       "  </thead>\n",
       "  <tbody>\n",
       "    <tr>\n",
       "      <th>0</th>\n",
       "      <td>36528058</td>\n",
       "      <td>The N-terminal domain of human mitochondrial h...</td>\n",
       "      <td>https://pubmed.ncbi.nlm.nih.gov/36528058/</td>\n",
       "      <td>Twinkle is the ring-shaped replicative helicas...</td>\n",
       "      <td>[Twinkle, ring-shaped, replicative, helicase, ...</td>\n",
       "      <td>1</td>\n",
       "    </tr>\n",
       "    <tr>\n",
       "      <th>1</th>\n",
       "      <td>36227977</td>\n",
       "      <td>Real-time dynamic single-molecule protein sequ...</td>\n",
       "      <td>https://pubmed.ncbi.nlm.nih.gov/36227977/</td>\n",
       "      <td>Studies of the proteome would benefit greatly ...</td>\n",
       "      <td>[Studies, proteome, would, benefit, greatly, m...</td>\n",
       "      <td>2</td>\n",
       "    </tr>\n",
       "    <tr>\n",
       "      <th>2</th>\n",
       "      <td>35934486</td>\n",
       "      <td>Quantitative methods to study helicase, DNA po...</td>\n",
       "      <td>https://pubmed.ncbi.nlm.nih.gov/35934486/</td>\n",
       "      <td>Genome replication is accomplished by highly r...</td>\n",
       "      <td>[Genome, replication, accomplished, highly, re...</td>\n",
       "      <td>1</td>\n",
       "    </tr>\n",
       "    <tr>\n",
       "      <th>3</th>\n",
       "      <td>35437807</td>\n",
       "      <td>The intrinsically disordered CARDs-Helicase li...</td>\n",
       "      <td>https://pubmed.ncbi.nlm.nih.gov/35437807/</td>\n",
       "      <td>The innate immune receptor RIG-I provides a fi...</td>\n",
       "      <td>[innate, immune, receptor, RIG-I, provides, fi...</td>\n",
       "      <td>4</td>\n",
       "    </tr>\n",
       "    <tr>\n",
       "      <th>4</th>\n",
       "      <td>33870232</td>\n",
       "      <td>Assembly and Cryo-EM structure determination o...</td>\n",
       "      <td>https://pubmed.ncbi.nlm.nih.gov/33870232/</td>\n",
       "      <td>In yeast mitochondria, transcription initiatio...</td>\n",
       "      <td>[yeast, mitochondria, transcription, initiatio...</td>\n",
       "      <td>2</td>\n",
       "    </tr>\n",
       "  </tbody>\n",
       "</table>\n",
       "</div>"
      ],
      "text/plain": [
       "  ArticleID                                        ArticleName  \\\n",
       "0  36528058  The N-terminal domain of human mitochondrial h...   \n",
       "1  36227977  Real-time dynamic single-molecule protein sequ...   \n",
       "2  35934486  Quantitative methods to study helicase, DNA po...   \n",
       "3  35437807  The intrinsically disordered CARDs-Helicase li...   \n",
       "4  33870232  Assembly and Cryo-EM structure determination o...   \n",
       "\n",
       "                                         URL  \\\n",
       "0  https://pubmed.ncbi.nlm.nih.gov/36528058/   \n",
       "1  https://pubmed.ncbi.nlm.nih.gov/36227977/   \n",
       "2  https://pubmed.ncbi.nlm.nih.gov/35934486/   \n",
       "3  https://pubmed.ncbi.nlm.nih.gov/35437807/   \n",
       "4  https://pubmed.ncbi.nlm.nih.gov/33870232/   \n",
       "\n",
       "                                            Abstract  \\\n",
       "0  Twinkle is the ring-shaped replicative helicas...   \n",
       "1  Studies of the proteome would benefit greatly ...   \n",
       "2  Genome replication is accomplished by highly r...   \n",
       "3  The innate immune receptor RIG-I provides a fi...   \n",
       "4  In yeast mitochondria, transcription initiatio...   \n",
       "\n",
       "                                            Keywords  NumberOfCitations  \n",
       "0  [Twinkle, ring-shaped, replicative, helicase, ...                  1  \n",
       "1  [Studies, proteome, would, benefit, greatly, m...                  2  \n",
       "2  [Genome, replication, accomplished, highly, re...                  1  \n",
       "3  [innate, immune, receptor, RIG-I, provides, fi...                  4  \n",
       "4  [yeast, mitochondria, transcription, initiatio...                  2  "
      ]
     },
     "execution_count": 40,
     "metadata": {},
     "output_type": "execute_result"
    }
   ],
   "source": [
    "abstracts.to_csv('abstracts.csv') #Re-Writing to a CSV for backups\n",
    "abstracts.head()"
   ]
  },
  {
   "attachments": {},
   "cell_type": "markdown",
   "metadata": {},
   "source": [
    "## Trying More Advanced NLP Techniques to Refine Keywords"
   ]
  },
  {
   "cell_type": "code",
   "execution_count": 30,
   "metadata": {},
   "outputs": [
    {
     "data": {
      "text/plain": [
       "[('gp4', 'VBZ'),\n",
       " ('Twinkle', 'VBP'),\n",
       " ('lost', 'VBD'),\n",
       " ('acquired', 'VBD'),\n",
       " ('demonstrated', 'VBD'),\n",
       " ('remained', 'VBD'),\n",
       " ('characterize', 'VBP'),\n",
       " ('novel', 'VBP'),\n",
       " ('hydrolyzes', 'VBZ'),\n",
       " ('assists', 'VBZ'),\n",
       " ('-catalyzed', 'VBD'),\n",
       " ('fails', 'VBZ'),\n",
       " ('retains', 'VBZ'),\n",
       " ('struggles', 'VBZ'),\n",
       " ('stabilizes', 'VBZ'),\n",
       " ('oligomerizes', 'VBZ'),\n",
       " ('sized', 'VBD'),\n",
       " ('exhibits', 'VBZ'),\n",
       " ('compared', 'VBN'),\n",
       " ('Based', 'VBD'),\n",
       " ('contributes', 'VBZ'),\n",
       " ('binding', 'VBG'),\n",
       " ('holds', 'VBZ'),\n",
       " ('like', 'VB'),\n",
       " ('preventing', 'VBG'),\n",
       " ('sustaining', 'VBG'),\n",
       " ('foundational', 'VBP'),\n",
       " ('lie', 'VBP')]"
      ]
     },
     "execution_count": 30,
     "metadata": {},
     "output_type": "execute_result"
    }
   ],
   "source": [
    "[ (x,y) for x,y in nltk.pos_tag(abstracts.loc[0]['Keywords']) if 'VB' in y]"
   ]
  },
  {
   "cell_type": "code",
   "execution_count": null,
   "metadata": {},
   "outputs": [],
   "source": []
  }
 ],
 "metadata": {
  "kernelspec": {
   "display_name": "Python 3",
   "language": "python",
   "name": "python3"
  },
  "language_info": {
   "codemirror_mode": {
    "name": "ipython",
    "version": 3
   },
   "file_extension": ".py",
   "mimetype": "text/x-python",
   "name": "python",
   "nbconvert_exporter": "python",
   "pygments_lexer": "ipython3",
   "version": "3.10.9"
  },
  "orig_nbformat": 4,
  "vscode": {
   "interpreter": {
    "hash": "999462012b5f0cc7a3a94ea2a9c2da9d0788e83b77ce0ef584c739bd8db88726"
   }
  }
 },
 "nbformat": 4,
 "nbformat_minor": 2
}
